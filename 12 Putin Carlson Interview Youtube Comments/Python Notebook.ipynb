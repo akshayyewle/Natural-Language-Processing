{
 "cells": [
  {
   "cell_type": "markdown",
   "metadata": {},
   "source": [
    "# **Setup**\n",
    "\n",
    "* https://www.kaggle.com/datasets/kanchana1990/social-media-sentiments-putin-and-carlson-interview/data"
   ]
  },
  {
   "cell_type": "code",
   "execution_count": 4,
   "metadata": {},
   "outputs": [],
   "source": [
    "import os\n",
    "import pandas as pd\n",
    "import matplotlib.pyplot as plt \n",
    "%matplotlib inline\n",
    "\n",
    "import nltk\n",
    "from nltk.corpus import stopwords\n",
    "from nltk.stem.porter import PorterStemmer"
   ]
  },
  {
   "cell_type": "code",
   "execution_count": 3,
   "metadata": {},
   "outputs": [],
   "source": [
    "Folder_Input = 'Input Data'"
   ]
  },
  {
   "cell_type": "markdown",
   "metadata": {},
   "source": [
    "# **Data Import**"
   ]
  },
  {
   "cell_type": "markdown",
   "metadata": {},
   "source": [
    "## **Download Data**"
   ]
  },
  {
   "cell_type": "code",
   "execution_count": 6,
   "metadata": {},
   "outputs": [
    {
     "name": "stdout",
     "output_type": "stream",
     "text": [
      "Downloading social-media-sentiments-putin-and-carlson-interview.zip to c:\\Users\\aksha\\OneDrive\\06 Data Science & Analytics\\Github\\Natural-Language-Processing\\12 Putin Carlson Interview Public Comments\\Input Data\n",
      "\n"
     ]
    },
    {
     "name": "stderr",
     "output_type": "stream",
     "text": [
      "\n",
      "  0%|          | 0.00/4.31M [00:00<?, ?B/s]\n",
      " 23%|██▎       | 1.00M/4.31M [00:00<00:01, 2.02MB/s]\n",
      " 70%|██████▉   | 3.00M/4.31M [00:00<00:00, 5.76MB/s]\n",
      "100%|██████████| 4.31M/4.31M [00:00<00:00, 6.25MB/s]\n"
     ]
    }
   ],
   "source": [
    "os.chdir(Folder_Input)\n",
    "!kaggle datasets download -d kanchana1990/social-media-sentiments-putin-and-carlson-interview\n",
    "os.chdir('..')"
   ]
  },
  {
   "cell_type": "markdown",
   "metadata": {},
   "source": [
    "## **Read Data**"
   ]
  },
  {
   "cell_type": "code",
   "execution_count": 8,
   "metadata": {},
   "outputs": [
    {
     "name": "stdout",
     "output_type": "stream",
     "text": [
      "(100000, 5)\n",
      "Index(['Comment', 'Anonymized Author', 'Published At', 'Likes', 'Reply Count'], dtype='object')\n"
     ]
    },
    {
     "data": {
      "text/html": [
       "<div>\n",
       "<style scoped>\n",
       "    .dataframe tbody tr th:only-of-type {\n",
       "        vertical-align: middle;\n",
       "    }\n",
       "\n",
       "    .dataframe tbody tr th {\n",
       "        vertical-align: top;\n",
       "    }\n",
       "\n",
       "    .dataframe thead th {\n",
       "        text-align: right;\n",
       "    }\n",
       "</style>\n",
       "<table border=\"1\" class=\"dataframe\">\n",
       "  <thead>\n",
       "    <tr style=\"text-align: right;\">\n",
       "      <th></th>\n",
       "      <th>Comment</th>\n",
       "      <th>Anonymized Author</th>\n",
       "      <th>Published At</th>\n",
       "      <th>Likes</th>\n",
       "      <th>Reply Count</th>\n",
       "    </tr>\n",
       "  </thead>\n",
       "  <tbody>\n",
       "    <tr>\n",
       "      <th>0</th>\n",
       "      <td>Watch my immediate reaction to the interview h...</td>\n",
       "      <td>533fb31af87a0ff551c4dc7a73634ccf7e9005f8eb4673...</td>\n",
       "      <td>2024-02-08T23:44:11Z</td>\n",
       "      <td>25601</td>\n",
       "      <td>750</td>\n",
       "    </tr>\n",
       "    <tr>\n",
       "      <th>1</th>\n",
       "      <td>The Russian to English translator did an EXCEL...</td>\n",
       "      <td>e00ef7ce570d1e6ba6e914755ffb9a0055386a3b0a6114...</td>\n",
       "      <td>2024-02-09T02:33:19Z</td>\n",
       "      <td>79514</td>\n",
       "      <td>750</td>\n",
       "    </tr>\n",
       "    <tr>\n",
       "      <th>2</th>\n",
       "      <td>The translation from Russian to English was ex...</td>\n",
       "      <td>c4add09939263f9b8509035f63b869662bc542641a3dc3...</td>\n",
       "      <td>2024-02-19T04:32:50Z</td>\n",
       "      <td>265</td>\n",
       "      <td>5</td>\n",
       "    </tr>\n",
       "    <tr>\n",
       "      <th>3</th>\n",
       "      <td>That was the longest 1 minute and 30 seconds h...</td>\n",
       "      <td>5b4d9b16bbfbc80edcb1941313fc0ee53748aea58bf3b8...</td>\n",
       "      <td>2024-02-18T06:58:59Z</td>\n",
       "      <td>1076</td>\n",
       "      <td>27</td>\n",
       "    </tr>\n",
       "    <tr>\n",
       "      <th>4</th>\n",
       "      <td>What's the difference between Tucker and a mob...</td>\n",
       "      <td>05ed0eddfa93d78083bcfb64186f749c6667c87da5ebc5...</td>\n",
       "      <td>2024-02-19T09:52:34Z</td>\n",
       "      <td>70</td>\n",
       "      <td>0</td>\n",
       "    </tr>\n",
       "  </tbody>\n",
       "</table>\n",
       "</div>"
      ],
      "text/plain": [
       "                                             Comment  \\\n",
       "0  Watch my immediate reaction to the interview h...   \n",
       "1  The Russian to English translator did an EXCEL...   \n",
       "2  The translation from Russian to English was ex...   \n",
       "3  That was the longest 1 minute and 30 seconds h...   \n",
       "4  What's the difference between Tucker and a mob...   \n",
       "\n",
       "                                   Anonymized Author          Published At  \\\n",
       "0  533fb31af87a0ff551c4dc7a73634ccf7e9005f8eb4673...  2024-02-08T23:44:11Z   \n",
       "1  e00ef7ce570d1e6ba6e914755ffb9a0055386a3b0a6114...  2024-02-09T02:33:19Z   \n",
       "2  c4add09939263f9b8509035f63b869662bc542641a3dc3...  2024-02-19T04:32:50Z   \n",
       "3  5b4d9b16bbfbc80edcb1941313fc0ee53748aea58bf3b8...  2024-02-18T06:58:59Z   \n",
       "4  05ed0eddfa93d78083bcfb64186f749c6667c87da5ebc5...  2024-02-19T09:52:34Z   \n",
       "\n",
       "   Likes  Reply Count  \n",
       "0  25601          750  \n",
       "1  79514          750  \n",
       "2    265            5  \n",
       "3   1076           27  \n",
       "4     70            0  "
      ]
     },
     "execution_count": 8,
     "metadata": {},
     "output_type": "execute_result"
    }
   ],
   "source": [
    "df = pd.read_csv(f'{Folder_Input}/putin_tucker.csv')\n",
    "\n",
    "print(df.shape)\n",
    "print(df.columns)\n",
    "df.head()"
   ]
  }
 ],
 "metadata": {
  "kernelspec": {
   "display_name": "Python 3",
   "language": "python",
   "name": "python3"
  },
  "language_info": {
   "codemirror_mode": {
    "name": "ipython",
    "version": 3
   },
   "file_extension": ".py",
   "mimetype": "text/x-python",
   "name": "python",
   "nbconvert_exporter": "python",
   "pygments_lexer": "ipython3",
   "version": "3.11.8"
  }
 },
 "nbformat": 4,
 "nbformat_minor": 2
}
