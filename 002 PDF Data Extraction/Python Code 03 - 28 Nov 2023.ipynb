{
 "cells": [
  {
   "cell_type": "markdown",
   "metadata": {},
   "source": [
    "# **Setup**"
   ]
  },
  {
   "cell_type": "code",
   "execution_count": 1,
   "metadata": {},
   "outputs": [],
   "source": [
    "import fitz # PyMuPDF\n",
    "import regex as re"
   ]
  },
  {
   "cell_type": "markdown",
   "metadata": {},
   "source": [
    "# **Read File**"
   ]
  },
  {
   "cell_type": "code",
   "execution_count": 2,
   "metadata": {},
   "outputs": [
    {
     "name": "stdout",
     "output_type": "stream",
     "text": [
      "No. Of Pages:  9\n"
     ]
    },
    {
     "data": {
      "text/plain": [
       "Document('Input.pdf')"
      ]
     },
     "execution_count": 2,
     "metadata": {},
     "output_type": "execute_result"
    }
   ],
   "source": [
    "File = fitz.open('Input.pdf')\n",
    "\n",
    "print('No. Of Pages: ',len(File))\n",
    "File"
   ]
  },
  {
   "cell_type": "markdown",
   "metadata": {},
   "source": [
    "# **Extract Text**"
   ]
  },
  {
   "cell_type": "code",
   "execution_count": 7,
   "metadata": {},
   "outputs": [
    {
     "name": "stdout",
     "output_type": "stream",
     "text": [
      "Processing Page No:  0\n",
      "Processing Page No:  1\n",
      "Processing Page No:  2\n",
      "Processing Page No:  3\n",
      "Processing Page No:  4\n",
      "Processing Page No:  5\n",
      "Processing Page No:  6\n",
      "Processing Page No:  7\n",
      "Processing Page No:  8\n",
      "Text Size:  35334\n"
     ]
    }
   ],
   "source": [
    "text = ''\n",
    "for i in range(len(File)):\n",
    "    print('Processing Page No: ',i)\n",
    "\n",
    "    # Get Page\n",
    "    Page = File[i]\n",
    "    text += Page.get_text()\n",
    "\n",
    "print('Text Size: ',len(text))"
   ]
  },
  {
   "cell_type": "code",
   "execution_count": 8,
   "metadata": {},
   "outputs": [
    {
     "name": "stdout",
     "output_type": "stream",
     "text": [
      "No. Of Words:  6008\n"
     ]
    }
   ],
   "source": [
    "Words = re.findall(r'\\w+',text)\n",
    "\n",
    "print('No. Of Words: ',len(Words))"
   ]
  }
 ],
 "metadata": {
  "kernelspec": {
   "display_name": "Python 3",
   "language": "python",
   "name": "python3"
  },
  "language_info": {
   "codemirror_mode": {
    "name": "ipython",
    "version": 3
   },
   "file_extension": ".py",
   "mimetype": "text/x-python",
   "name": "python",
   "nbconvert_exporter": "python",
   "pygments_lexer": "ipython3",
   "version": "3.11.6"
  }
 },
 "nbformat": 4,
 "nbformat_minor": 2
}
