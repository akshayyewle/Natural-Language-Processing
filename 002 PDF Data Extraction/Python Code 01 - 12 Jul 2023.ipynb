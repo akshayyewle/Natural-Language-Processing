{
 "cells": [
  {
   "cell_type": "markdown",
   "metadata": {},
   "source": [
    "# **Setup**"
   ]
  },
  {
   "cell_type": "code",
   "execution_count": 32,
   "metadata": {},
   "outputs": [],
   "source": [
    "import PyPDF4\n",
    "from PyPDF4 import PdfFileReader,PdfFileWriter\n",
    "import regex as re"
   ]
  },
  {
   "cell_type": "markdown",
   "metadata": {},
   "source": [
    "# **Data Import**"
   ]
  },
  {
   "cell_type": "code",
   "execution_count": 20,
   "metadata": {},
   "outputs": [],
   "source": [
    "# Read PDF File\n",
    "file = PdfFileReader('News Article Text.pdf')"
   ]
  },
  {
   "cell_type": "code",
   "execution_count": 21,
   "metadata": {},
   "outputs": [
    {
     "data": {
      "text/plain": [
       "{'/Author': 'Akshay Yewle',\n",
       " '/Creator': 'Microsoft® Word for Microsoft 365',\n",
       " '/CreationDate': \"D:20231128145042+00'00'\",\n",
       " '/ModDate': \"D:20231128145042+00'00'\",\n",
       " '/Producer': 'Microsoft® Word for Microsoft 365'}"
      ]
     },
     "execution_count": 21,
     "metadata": {},
     "output_type": "execute_result"
    }
   ],
   "source": [
    "# Get Document Info\n",
    "file.documentInfo"
   ]
  },
  {
   "cell_type": "markdown",
   "metadata": {},
   "source": [
    "# **Get Fields**"
   ]
  },
  {
   "cell_type": "code",
   "execution_count": 22,
   "metadata": {},
   "outputs": [
    {
     "name": "stdout",
     "output_type": "stream",
     "text": [
      "None\n"
     ]
    }
   ],
   "source": [
    "# Get Fields\n",
    "print(file.getFields())"
   ]
  },
  {
   "cell_type": "markdown",
   "metadata": {},
   "source": [
    "# **Get Page No.**"
   ]
  },
  {
   "cell_type": "code",
   "execution_count": 23,
   "metadata": {},
   "outputs": [
    {
     "data": {
      "text/plain": [
       "1"
      ]
     },
     "execution_count": 23,
     "metadata": {},
     "output_type": "execute_result"
    }
   ],
   "source": [
    "# Get No. Of Pages\n",
    "file.getNumPages()"
   ]
  },
  {
   "cell_type": "markdown",
   "metadata": {},
   "source": [
    "# **Get Outlines**"
   ]
  },
  {
   "cell_type": "code",
   "execution_count": 24,
   "metadata": {},
   "outputs": [
    {
     "data": {
      "text/plain": [
       "[]"
      ]
     },
     "execution_count": 24,
     "metadata": {},
     "output_type": "execute_result"
    }
   ],
   "source": [
    "file.getOutlines()"
   ]
  },
  {
   "cell_type": "code",
   "execution_count": 26,
   "metadata": {},
   "outputs": [
    {
     "data": {
      "text/plain": [
       "[]"
      ]
     },
     "execution_count": 26,
     "metadata": {},
     "output_type": "execute_result"
    }
   ],
   "source": [
    "file.getOutlines()"
   ]
  },
  {
   "cell_type": "markdown",
   "metadata": {},
   "source": [
    "# **Access A Page**"
   ]
  },
  {
   "cell_type": "code",
   "execution_count": 28,
   "metadata": {},
   "outputs": [
    {
     "data": {
      "text/plain": [
       "{'/Type': '/Page',\n",
       " '/Parent': {'/Type': '/Pages', '/Count': 1, '/Kids': [IndirectObject(3, 0)]},\n",
       " '/Resources': {'/ExtGState': {'/GS5': {'/Type': '/ExtGState',\n",
       "    '/BM': '/Normal',\n",
       "    '/ca': 1},\n",
       "   '/GS8': {'/Type': '/ExtGState', '/BM': '/Normal', '/CA': 1}},\n",
       "  '/Font': {'/F1': {'/Type': '/Font',\n",
       "    '/Subtype': '/TrueType',\n",
       "    '/Name': '/F1',\n",
       "    '/BaseFont': '/BCDEEE+Cambria-Bold',\n",
       "    '/Encoding': '/WinAnsiEncoding',\n",
       "    '/FontDescriptor': {'/Type': '/FontDescriptor',\n",
       "     '/FontName': '/BCDEEE+Cambria-Bold',\n",
       "     '/Flags': 32,\n",
       "     '/ItalicAngle': 0,\n",
       "     '/Ascent': 950,\n",
       "     '/Descent': -222,\n",
       "     '/CapHeight': 778,\n",
       "     '/AvgWidth': 600,\n",
       "     '/MaxWidth': 2482,\n",
       "     '/FontWeight': 700,\n",
       "     '/XHeight': 250,\n",
       "     '/StemV': 60,\n",
       "     '/FontBBox': [-1110, -222, 1373, 778],\n",
       "     '/FontFile2': {'/Filter': '/FlateDecode', '/Length1': 67140}},\n",
       "    '/FirstChar': 32,\n",
       "    '/LastChar': 121,\n",
       "    '/Widths': [220,\n",
       "     0,\n",
       "     0,\n",
       "     0,\n",
       "     0,\n",
       "     0,\n",
       "     740,\n",
       "     0,\n",
       "     0,\n",
       "     0,\n",
       "     0,\n",
       "     0,\n",
       "     232,\n",
       "     0,\n",
       "     232,\n",
       "     0,\n",
       "     592,\n",
       "     592,\n",
       "     0,\n",
       "     0,\n",
       "     0,\n",
       "     0,\n",
       "     0,\n",
       "     0,\n",
       "     0,\n",
       "     0,\n",
       "     0,\n",
       "     0,\n",
       "     0,\n",
       "     0,\n",
       "     0,\n",
       "     0,\n",
       "     0,\n",
       "     652,\n",
       "     651,\n",
       "     573,\n",
       "     0,\n",
       "     0,\n",
       "     0,\n",
       "     646,\n",
       "     722,\n",
       "     0,\n",
       "     341,\n",
       "     0,\n",
       "     0,\n",
       "     846,\n",
       "     679,\n",
       "     0,\n",
       "     614,\n",
       "     0,\n",
       "     662,\n",
       "     513,\n",
       "     0,\n",
       "     0,\n",
       "     0,\n",
       "     0,\n",
       "     0,\n",
       "     0,\n",
       "     566,\n",
       "     0,\n",
       "     0,\n",
       "     0,\n",
       "     0,\n",
       "     0,\n",
       "     0,\n",
       "     535,\n",
       "     591,\n",
       "     469,\n",
       "     597,\n",
       "     531,\n",
       "     326,\n",
       "     520,\n",
       "     597,\n",
       "     314,\n",
       "     0,\n",
       "     592,\n",
       "     308,\n",
       "     890,\n",
       "     604,\n",
       "     569,\n",
       "     597,\n",
       "     0,\n",
       "     461,\n",
       "     459,\n",
       "     365,\n",
       "     597,\n",
       "     0,\n",
       "     798,\n",
       "     0,\n",
       "     531]},\n",
       "   '/F2': {'/Type': '/Font',\n",
       "    '/Subtype': '/TrueType',\n",
       "    '/Name': '/F2',\n",
       "    '/BaseFont': '/BCDFEE+Cambria',\n",
       "    '/Encoding': '/WinAnsiEncoding',\n",
       "    '/FontDescriptor': {'/Type': '/FontDescriptor',\n",
       "     '/FontName': '/BCDFEE+Cambria',\n",
       "     '/Flags': 32,\n",
       "     '/ItalicAngle': 0,\n",
       "     '/Ascent': 950,\n",
       "     '/Descent': -222,\n",
       "     '/CapHeight': 778,\n",
       "     '/AvgWidth': 615,\n",
       "     '/MaxWidth': 4342,\n",
       "     '/FontWeight': 400,\n",
       "     '/XHeight': 250,\n",
       "     '/StemV': 61,\n",
       "     '/FontBBox': [-1475, -222, 2868, 778],\n",
       "     '/FontFile2': {'/Filter': '/FlateDecode', '/Length1': 86504}},\n",
       "    '/FirstChar': 32,\n",
       "    '/LastChar': 119,\n",
       "    '/Widths': [220,\n",
       "     0,\n",
       "     0,\n",
       "     0,\n",
       "     0,\n",
       "     0,\n",
       "     0,\n",
       "     0,\n",
       "     0,\n",
       "     0,\n",
       "     0,\n",
       "     0,\n",
       "     0,\n",
       "     0,\n",
       "     0,\n",
       "     0,\n",
       "     0,\n",
       "     0,\n",
       "     0,\n",
       "     0,\n",
       "     0,\n",
       "     0,\n",
       "     0,\n",
       "     0,\n",
       "     0,\n",
       "     0,\n",
       "     0,\n",
       "     0,\n",
       "     0,\n",
       "     0,\n",
       "     0,\n",
       "     0,\n",
       "     0,\n",
       "     0,\n",
       "     611,\n",
       "     563,\n",
       "     0,\n",
       "     0,\n",
       "     0,\n",
       "     0,\n",
       "     0,\n",
       "     0,\n",
       "     0,\n",
       "     0,\n",
       "     0,\n",
       "     0,\n",
       "     681,\n",
       "     0,\n",
       "     0,\n",
       "     0,\n",
       "     0,\n",
       "     0,\n",
       "     0,\n",
       "     0,\n",
       "     0,\n",
       "     0,\n",
       "     0,\n",
       "     0,\n",
       "     0,\n",
       "     0,\n",
       "     0,\n",
       "     0,\n",
       "     0,\n",
       "     0,\n",
       "     0,\n",
       "     0,\n",
       "     0,\n",
       "     0,\n",
       "     0,\n",
       "     488,\n",
       "     0,\n",
       "     0,\n",
       "     0,\n",
       "     0,\n",
       "     0,\n",
       "     0,\n",
       "     0,\n",
       "     0,\n",
       "     0,\n",
       "     0,\n",
       "     0,\n",
       "     0,\n",
       "     0,\n",
       "     430,\n",
       "     0,\n",
       "     0,\n",
       "     0,\n",
       "     774]},\n",
       "   '/F3': {'/Type': '/Font',\n",
       "    '/Subtype': '/TrueType',\n",
       "    '/Name': '/F3',\n",
       "    '/BaseFont': '/Helvetica',\n",
       "    '/Encoding': '/WinAnsiEncoding',\n",
       "    '/FontDescriptor': {'/Type': '/FontDescriptor',\n",
       "     '/FontName': '/Helvetica',\n",
       "     '/Flags': 32,\n",
       "     '/ItalicAngle': 0,\n",
       "     '/Ascent': 905,\n",
       "     '/Descent': -210,\n",
       "     '/CapHeight': 728,\n",
       "     '/AvgWidth': 441,\n",
       "     '/MaxWidth': 2665,\n",
       "     '/FontWeight': 400,\n",
       "     '/XHeight': 250,\n",
       "     '/Leading': 33,\n",
       "     '/StemV': 44,\n",
       "     '/FontBBox': [-665, -210, 2000, 728]},\n",
       "    '/FirstChar': 32,\n",
       "    '/LastChar': 121,\n",
       "    '/Widths': [278,\n",
       "     0,\n",
       "     355,\n",
       "     0,\n",
       "     0,\n",
       "     0,\n",
       "     0,\n",
       "     191,\n",
       "     0,\n",
       "     0,\n",
       "     0,\n",
       "     0,\n",
       "     278,\n",
       "     333,\n",
       "     278,\n",
       "     0,\n",
       "     556,\n",
       "     556,\n",
       "     556,\n",
       "     556,\n",
       "     556,\n",
       "     0,\n",
       "     0,\n",
       "     0,\n",
       "     556,\n",
       "     556,\n",
       "     0,\n",
       "     0,\n",
       "     0,\n",
       "     0,\n",
       "     0,\n",
       "     0,\n",
       "     0,\n",
       "     667,\n",
       "     667,\n",
       "     722,\n",
       "     722,\n",
       "     667,\n",
       "     0,\n",
       "     778,\n",
       "     0,\n",
       "     0,\n",
       "     0,\n",
       "     667,\n",
       "     556,\n",
       "     833,\n",
       "     722,\n",
       "     778,\n",
       "     667,\n",
       "     0,\n",
       "     0,\n",
       "     667,\n",
       "     611,\n",
       "     722,\n",
       "     0,\n",
       "     944,\n",
       "     0,\n",
       "     0,\n",
       "     0,\n",
       "     0,\n",
       "     0,\n",
       "     0,\n",
       "     0,\n",
       "     0,\n",
       "     0,\n",
       "     556,\n",
       "     556,\n",
       "     500,\n",
       "     556,\n",
       "     556,\n",
       "     278,\n",
       "     556,\n",
       "     556,\n",
       "     222,\n",
       "     0,\n",
       "     500,\n",
       "     222,\n",
       "     833,\n",
       "     556,\n",
       "     556,\n",
       "     556,\n",
       "     0,\n",
       "     333,\n",
       "     500,\n",
       "     278,\n",
       "     556,\n",
       "     500,\n",
       "     722,\n",
       "     500,\n",
       "     500]},\n",
       "   '/F4': {'/Type': '/Font',\n",
       "    '/Subtype': '/TrueType',\n",
       "    '/Name': '/F4',\n",
       "    '/BaseFont': '/BCDGEE+Calibri',\n",
       "    '/Encoding': '/WinAnsiEncoding',\n",
       "    '/FontDescriptor': {'/Type': '/FontDescriptor',\n",
       "     '/FontName': '/BCDGEE+Calibri',\n",
       "     '/Flags': 32,\n",
       "     '/ItalicAngle': 0,\n",
       "     '/Ascent': 750,\n",
       "     '/Descent': -250,\n",
       "     '/CapHeight': 750,\n",
       "     '/AvgWidth': 521,\n",
       "     '/MaxWidth': 1743,\n",
       "     '/FontWeight': 400,\n",
       "     '/XHeight': 250,\n",
       "     '/StemV': 52,\n",
       "     '/FontBBox': [-503, -250, 1240, 750],\n",
       "     '/FontFile2': {'/Filter': '/FlateDecode', '/Length1': 83164}},\n",
       "    '/FirstChar': 32,\n",
       "    '/LastChar': 32,\n",
       "    '/Widths': [226]}},\n",
       "  '/ProcSet': ['/PDF', '/Text', '/ImageB', '/ImageC', '/ImageI']},\n",
       " '/Annots': [IndirectObject(13, 0), IndirectObject(14, 0)],\n",
       " '/MediaBox': [0, 0, 595.32, 841.92],\n",
       " '/Contents': {'/Filter': '/FlateDecode'},\n",
       " '/Group': {'/Type': '/Group', '/S': '/Transparency', '/CS': '/DeviceRGB'},\n",
       " '/Tabs': '/S',\n",
       " '/StructParents': 0}"
      ]
     },
     "execution_count": 28,
     "metadata": {},
     "output_type": "execute_result"
    }
   ],
   "source": [
    "Page_01 = file.getPage(0)\n",
    "Page_01"
   ]
  },
  {
   "cell_type": "markdown",
   "metadata": {},
   "source": [
    "## **Get Page Text**"
   ]
  },
  {
   "cell_type": "code",
   "execution_count": 29,
   "metadata": {},
   "outputs": [
    {
     "name": "stdout",
     "output_type": "stream",
     "text": [
      "By Henry Zeffman, Harrison Jones & Chris Mason\n",
      " \n",
      "BBC News\n",
      " \n",
      " \n",
      "No\n",
      " \n",
      "10\n",
      " \n",
      "is\n",
      " \n",
      "embroiled\n",
      " \n",
      "in\n",
      " \n",
      "a\n",
      " \n",
      "deepening\n",
      " \n",
      "row\n",
      " \n",
      "with\n",
      " \n",
      "Athens\n",
      " \n",
      "after\n",
      " \n",
      "cancelling\n",
      " \n",
      "a\n",
      " \n",
      "meeting\n",
      " \n",
      "between\n",
      " \n",
      "Rishi\n",
      " \n",
      "Sunak\n",
      " \n",
      "and\n",
      " \n",
      "the\n",
      " \n",
      "Greek\n",
      " \n",
      "PM.\n",
      " \n",
      " \n",
      "Downing Street believed it had assurances that Kyriakos Mitsotakis would not speak \n",
      "publicly about the Parthenon Sculptures \n",
      "-\n",
      " \n",
      "also known as the Elgin Marbles \n",
      "-\n",
      " \n",
      "on his \n",
      "UK visit.\n",
      " \n",
      " \n",
      "A Greek source has denied this.\n",
      " \n",
      " \n",
      "On Sunday, Greece's leader told the BBC that having some of the treasures in \n",
      "London and others in Athens was like cutting the Mona Lisa in half.\n",
      " \n",
      "No 10 then scrapped the PM's meeting with Mr Mitsotakis at late notice.\n",
      " \n",
      "Labour has described the row as \"pathetic\".\n",
      " \n",
      "A Greek government source disputed there had been any assurances given to the \n",
      "UK over Mr Mitsotakis talking about the marbles while he was in the country.\n",
      " \n",
      "They said discussions preparing for the meeting with the UK PM had been smooth \n",
      "until late afternoon on Monday \n",
      "-\n",
      " \n",
      "long after Mr Mitsotakis's BBC interview with Laura \n",
      "Kuenssberg on Sunday.\n",
      " \n",
      " \n",
      "The sculptures are a collection of ancient Greek treasures from the Parthenon in \n",
      "Athens which were taken and brought to the UK by British diplomat Lord Elgin in the \n",
      "early 19th Century.\n",
      " \n",
      " \n",
      "They have been in the British Museum since 1832, aside from a stint in Aldwych \n",
      "Tube station during World War Two to prevent damage and\n",
      " \n",
      "one\n",
      " \n",
      "marble\n",
      " \n",
      "being\n",
      " \n",
      "loaned\n",
      " \n",
      "to\n",
      " \n",
      "a\n",
      " \n",
      "Russian\n",
      " \n",
      "museum\n",
      " \n",
      "in 2014.\n",
      " \n",
      " \n",
      "Both Greece and the UK have long\n",
      "-\n",
      "standing positions on the sculptures, but \n",
      "diplomatic talks were expected to focus on other topics.\n",
      " \n",
      " \n",
      "\n"
     ]
    }
   ],
   "source": [
    "Page_01_Text = Page_01.extractText()\n",
    "print(Page_01_Text)"
   ]
  },
  {
   "cell_type": "code",
   "execution_count": 30,
   "metadata": {},
   "outputs": [
    {
     "data": {
      "text/plain": [
       "1607"
      ]
     },
     "execution_count": 30,
     "metadata": {},
     "output_type": "execute_result"
    }
   ],
   "source": [
    "len(Page_01_Text)"
   ]
  },
  {
   "cell_type": "markdown",
   "metadata": {},
   "source": [
    "# **Process Text Data**"
   ]
  },
  {
   "cell_type": "code",
   "execution_count": 40,
   "metadata": {},
   "outputs": [
    {
     "data": {
      "text/plain": [
       "['By',\n",
       " 'Henry',\n",
       " 'Zeffman',\n",
       " 'Harrison',\n",
       " 'Jones',\n",
       " 'Chris',\n",
       " 'Mason',\n",
       " 'BBC',\n",
       " 'News',\n",
       " 'No']"
      ]
     },
     "execution_count": 40,
     "metadata": {},
     "output_type": "execute_result"
    }
   ],
   "source": [
    "# Find Words\n",
    "Page_01_Words = re.findall('\\w+',Page_01_Text)\n",
    "Page_01_Words[0:10]"
   ]
  },
  {
   "cell_type": "code",
   "execution_count": 42,
   "metadata": {},
   "outputs": [
    {
     "name": "stdout",
     "output_type": "stream",
     "text": [
      "By Henry Zeffman Harrison Jones Chris Mason BBC News No 10 is embroiled in a deepening row with Athens after cancelling a meeting between Rishi Sunak and the Greek PM Downing Street believed it had assurances that Kyriakos Mitsotakis would not speak publicly about the Parthenon Sculptures also known as the Elgin Marbles on his UK visit A Greek source has denied this On Sunday Greece s leader told the BBC that having some of the treasures in London and others in Athens was like cutting the Mona Lisa in half No 10 then scrapped the PM s meeting with Mr Mitsotakis at late notice Labour has described the row as pathetic A Greek government source disputed there had been any assurances given to the UK over Mr Mitsotakis talking about the marbles while he was in the country They said discussions preparing for the meeting with the UK PM had been smooth until late afternoon on Monday long after Mr Mitsotakis s BBC interview with Laura Kuenssberg on Sunday The sculptures are a collection of ancient Greek treasures from the Parthenon in Athens which were taken and brought to the UK by British diplomat Lord Elgin in the early 19th Century They have been in the British Museum since 1832 aside from a stint in Aldwych Tube station during World War Two to prevent damage and one marble being loaned to a Russian museum in 2014 Both Greece and the UK have long standing positions on the sculptures but diplomatic talks were expected to focus on other topics\n"
     ]
    }
   ],
   "source": [
    "# Rebuild Text String\n",
    "Page_01_Text_Cleaned = ' '.join(Page_01_Words)\n",
    "print(Page_01_Text_Cleaned)"
   ]
  }
 ],
 "metadata": {
  "kernelspec": {
   "display_name": "Python 3",
   "language": "python",
   "name": "python3"
  },
  "language_info": {
   "codemirror_mode": {
    "name": "ipython",
    "version": 3
   },
   "file_extension": ".py",
   "mimetype": "text/x-python",
   "name": "python",
   "nbconvert_exporter": "python",
   "pygments_lexer": "ipython3",
   "version": "3.11.6"
  },
  "orig_nbformat": 4
 },
 "nbformat": 4,
 "nbformat_minor": 2
}
