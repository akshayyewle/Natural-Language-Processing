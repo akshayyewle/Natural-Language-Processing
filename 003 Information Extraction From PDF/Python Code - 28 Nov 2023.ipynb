{
 "cells": [
  {
   "cell_type": "markdown",
   "metadata": {},
   "source": [
    "# **Setup**\n",
    "\n",
    "* https://pypi.org/project/PyMuPDF/\n",
    "* https://towardsdatascience.com/the-beginning-of-information-extraction-highlight-key-words-and-obtain-frequencies-a03da0a1ba71"
   ]
  },
  {
   "cell_type": "code",
   "execution_count": 2,
   "metadata": {},
   "outputs": [],
   "source": [
    "import fitz #PymuPDF\n",
    "from collections import Counter"
   ]
  },
  {
   "cell_type": "markdown",
   "metadata": {},
   "source": [
    "# **Define Function**"
   ]
  },
  {
   "cell_type": "code",
   "execution_count": 13,
   "metadata": {},
   "outputs": [],
   "source": [
    "def highlight_terms_and_count(input_pdf_path, output_pdf_path, terms_to_highlight, output_text_file):\n",
    "   \n",
    "    \"\"\"\n",
    "    A function which accepts a PDF file and a sting of words as input \n",
    "    and outputs a highlighted PDF file of the queried words and a text file \n",
    "    with the query word frequences.\n",
    "\n",
    "    Arguments:\n",
    "    input_pdf_path (str): Path to a PDF file\n",
    "    output_pdf_file (str): Path to the output pdf file\n",
    "    terms_to_highlight (list): List of terms (str) to highlight\n",
    "    output_text_file (str): Path to output text file.\n",
    "\n",
    "    Returns\n",
    "    output_pd_file : A PDF highlighted with the queried words.\n",
    "    output_text_file: A text file containing the frequency of each queried word.\n",
    "    \"\"\"\n",
    "\n",
    "    # Open the PDF file\n",
    "    pdf_document = fitz.open(input_pdf_path)\n",
    "    term_counter = Counter()\n",
    "\n",
    "    for page_number in range(len(pdf_document)):\n",
    "        page = pdf_document[page_number]\n",
    "        # Get the text on the page\n",
    "        text = page.get_text()\n",
    "\n",
    "        for term in terms_to_highlight:\n",
    "            term_instances = page.search_for(term)\n",
    "            term_counter[term] += len(term_instances)  # Count term instances on this page\n",
    "\n",
    "            for term_rect in term_instances:\n",
    "                # Create a highlight annotation\n",
    "                highlight = page.add_highlight_annot(term_rect)\n",
    "                # Set the color of the highlight (e.g., yellow)\n",
    "                highlight.set_colors(stroke=(1, 1, 0))\n",
    "                # Set the opacity of the highlight (0 to 1)\n",
    "                highlight.set_opacity(0.5)\n",
    "\n",
    "    # Save the modified PDF\n",
    "    pdf_document.save(output_pdf_path)\n",
    "    pdf_document.close()\n",
    "\n",
    "    # Save term frequencies to a text file\n",
    "    with open(output_text_file, 'w') as text_file:\n",
    "        for term, frequency in term_counter.items():\n",
    "            print(term,frequency)\n",
    "            text_file.write(f\"{term}: {frequency}\\n\")"
   ]
  },
  {
   "cell_type": "markdown",
   "metadata": {},
   "source": [
    "# **Extract Information**"
   ]
  },
  {
   "cell_type": "code",
   "execution_count": 9,
   "metadata": {},
   "outputs": [],
   "source": [
    "input_pdf_path = \"Input.pdf\"  # Replace with your input PDF file\n",
    "output_pdf_path = \"Output.pdf\"  # Replace with your output PDF file\n",
    "terms_to_highlight = [\"neural\", \"networks\"]  # Add the terms you want to highlight\n",
    "output_text_file = \"term_frequencies.txt\"  # Text file to store term frequencies"
   ]
  },
  {
   "cell_type": "code",
   "execution_count": 14,
   "metadata": {},
   "outputs": [
    {
     "name": "stdout",
     "output_type": "stream",
     "text": [
      "neural 21\n",
      "networks 23\n"
     ]
    }
   ],
   "source": [
    "highlight_terms_and_count(input_pdf_path, output_pdf_path, terms_to_highlight, output_text_file)"
   ]
  }
 ],
 "metadata": {
  "kernelspec": {
   "display_name": "Python 3",
   "language": "python",
   "name": "python3"
  },
  "language_info": {
   "codemirror_mode": {
    "name": "ipython",
    "version": 3
   },
   "file_extension": ".py",
   "mimetype": "text/x-python",
   "name": "python",
   "nbconvert_exporter": "python",
   "pygments_lexer": "ipython3",
   "version": "3.11.6"
  }
 },
 "nbformat": 4,
 "nbformat_minor": 2
}
